{
 "cells": [
  {
   "cell_type": "markdown",
   "metadata": {},
   "source": [
    "# 8.1 Bootstrap Resampling\n",
    "\n",
    "If we were assuming a distribution, we could calculate a confidence interval (a standard deviation for example), but what if we don't know what the underlying distribution is. We can use the data set itself as an approximation of the population and resampling from it using a statistical technique called **the bootstrap** calculating the mean each time.\n",
    "\n",
    "## Additional Assigned Reading\n",
    "\n",
    "Data 8 textbook \"Computational and Inferential Thinking: The Foundations of Data Science\" By Ani Adhikari and John DeNero [Chapter 13 Estimation](https://www.inferentialthinking.com/chapters/13/Estimation.html). This should overlap with your assigned reading for Data 8."
   ]
  },
  {
   "cell_type": "markdown",
   "metadata": {},
   "source": [
    "## The Bootstrap: Resampling from the Sample \n",
    "\n",
    "> What we do have is a large random sample from the population. As we know, a large random sample is likely to resemble the population from which it is drawn. This observation allows data scientists to lift themselves up by their own bootstraps: the sampling procedure can be replicated by sampling from the sample.\n",
    "\n",
    "> Here are the steps of the bootstrap method for generating another random sample that resembles the population:\n",
    "> - Treat the original sample as if it were the population.\n",
    "> - Draw from the sample, at random with replacement, the same number of times as the original sample size.\n",
    "\n",
    "> It is important to resample the same number of times as the original sample size. The reason is that the variability of an estimate depends on the size of the sample. Since our original sample consisted of 500 employees, our sample median was based on 500 values. To see how different the sample could have been, we have to compare it to the median of other samples of size 500.\n",
    "\n",
    "> If we drew 500 times at random without replacement from our sample of size 500, we would just get the same sample back. By drawing with replacement, we create the possibility for the new samples to be different from the original.\n",
    "\n",
    "> Why is this a good idea? By the law of averages, the distribution of the original sample is likely to resemble the population, and the distributions of all the \"resamples\" are likely to resemble the original sample. So the distributions of all the resamples are likely to resemble the population as well.\n",
    "\n",
    "> Source: https://www.inferentialthinking.com/chapters/13/2/Bootstrap.html"
   ]
  },
  {
   "cell_type": "markdown",
   "metadata": {},
   "source": []
  }
 ],
 "metadata": {
  "kernelspec": {
   "display_name": "Python 3",
   "language": "python",
   "name": "python3"
  },
  "language_info": {
   "codemirror_mode": {
    "name": "ipython",
    "version": 3
   },
   "file_extension": ".py",
   "mimetype": "text/x-python",
   "name": "python",
   "nbconvert_exporter": "python",
   "pygments_lexer": "ipython3",
   "version": "3.7.7"
  }
 },
 "nbformat": 4,
 "nbformat_minor": 4
}
