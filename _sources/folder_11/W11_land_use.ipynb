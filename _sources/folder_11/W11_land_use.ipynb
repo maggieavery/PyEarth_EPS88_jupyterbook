{
 "cells": [
  {
   "cell_type": "markdown",
   "metadata": {},
   "source": [
    "# 11.3 Land use - Anthropogeomorphology\n",
    "\n",
    "\n",
    "\n",
    "## Additional Assigned Reading\n",
    "\n",
    "Hooke, R. L. (2000). On the history of humans as geomorphic agents. Geology, 28(9), 843-846.\n",
    "\n",
    "Goudie, A. (2018). The human impact in geomorphology–50 years of change. Geomorphology, 106601.\n",
    "\n",
    "If you have any trouble (or paywalls) accessing these articles let me know. Or VPN or request access through the library.\n",
    "\n",
    "\n",
    "## Anthropogeomorphology\n",
    "\n",
    "The past few thousand years have seen a **dramatic** increase in the impact that humans have on the evolution and modification of landscapes. Studying how humans are using land and the impact that has on earth systems will help us mitigate these impacts, to build and farm more sustainably. \n",
    "\n",
    "\n",
    "![](./images/Hooke_fig1.png)\n",
    ">Figure from Hooke, R. L. (2000). On the history of humans as geomorphic agents. Geology, 28(9), 843-846."
   ]
  },
  {
   "cell_type": "code",
   "execution_count": null,
   "metadata": {},
   "outputs": [],
   "source": []
  }
 ],
 "metadata": {
  "kernelspec": {
   "display_name": "Python 3",
   "language": "python",
   "name": "python3"
  },
  "language_info": {
   "codemirror_mode": {
    "name": "ipython",
    "version": 3
   },
   "file_extension": ".py",
   "mimetype": "text/x-python",
   "name": "python",
   "nbconvert_exporter": "python",
   "pygments_lexer": "ipython3",
   "version": "3.7.7"
  }
 },
 "nbformat": 4,
 "nbformat_minor": 4
}
