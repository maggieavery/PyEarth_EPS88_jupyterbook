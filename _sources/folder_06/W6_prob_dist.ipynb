{
 "cells": [
  {
   "cell_type": "markdown",
   "metadata": {},
   "source": [
    "# 6.1 Probability Distributions\n",
    "\n",
    "**Outline:**\n",
    "* Introduction to probability distributions and empirical distributions\n",
    "* Bionomial, Poisson, and Gamma distributions for random events\n",
    "\n",
    "\n",
    "## Additional Assigned Reading\n",
    "\n",
    "Data 8 textbook \"Computational and Inferential Thinking: The Foundations of Data Science\" By Ani Adhikari and John DeNero [Chapter 10 Sampling and Empirical Distributions](https://www.inferentialthinking.com/chapters/10/Sampling_and_Empirical_Distributions.html). This should overlap with your assigned reading for Data 8."
   ]
  },
  {
   "cell_type": "markdown",
   "metadata": {},
   "source": [
    "## Flipping a coin\n",
    "\n",
    "Let's pretend we are flipping a coin 10 times using ```np.random.choice([0, 1])```. How many times will be heads? 1 is heads, 0 is tails. Let's use a `for` loop and get Python to simulate such a coin flip scenario for us.\n",
    "\n",
    "The code will get looped through 10 times -- specified by ```range(0,10)```."
   ]
  },
  {
   "cell_type": "code",
   "execution_count": 1,
   "metadata": {},
   "outputs": [
    {
     "name": "stdout",
     "output_type": "stream",
     "text": [
      "1\n",
      "1\n",
      "0\n",
      "0\n",
      "1\n",
      "0\n",
      "1\n",
      "1\n",
      "0\n",
      "0\n"
     ]
    }
   ],
   "source": [
    "import numpy as np\n",
    "import matplotlib.pyplot as plt\n",
    "import scipy as scipy\n",
    "from scipy import stats\n",
    "\n",
    "for flip in range(0,10):\n",
    "    flip_result = np.random.choice([0, 1])\n",
    "    print(flip_result)"
   ]
  },
  {
   "cell_type": "markdown",
   "metadata": {},
   "source": [
    "Now let's record how many times the result was heads. We will make a list called `flip_results` and have it be blank to start. Each time we go through the code we will append the result to the list:"
   ]
  },
  {
   "cell_type": "code",
   "execution_count": 2,
   "metadata": {},
   "outputs": [
    {
     "data": {
      "text/plain": [
       "[0, 0, 1, 1, 0, 0, 1, 1, 0, 0]"
      ]
     },
     "execution_count": 2,
     "metadata": {},
     "output_type": "execute_result"
    }
   ],
   "source": [
    "flip_results = []\n",
    "\n",
    "for flip in range(0,10):\n",
    "    flip_result = np.random.choice([0, 1])\n",
    "    flip_results.append(flip_result)\n",
    "    \n",
    "flip_results    "
   ]
  },
  {
   "cell_type": "markdown",
   "metadata": {},
   "source": [
    "We can calculate how many times were heads by taking the sum of the list:"
   ]
  },
  {
   "cell_type": "code",
   "execution_count": 3,
   "metadata": {},
   "outputs": [
    {
     "data": {
      "text/plain": [
       "4"
      ]
     },
     "execution_count": 3,
     "metadata": {},
     "output_type": "execute_result"
    }
   ],
   "source": [
    "np.sum(flip_results)"
   ]
  },
  {
   "cell_type": "markdown",
   "metadata": {},
   "source": [
    "Now we'll repeat our expirement of 10 flips 10 times keeping a count of the number of heads in each experiment in `number_heads`."
   ]
  },
  {
   "cell_type": "code",
   "execution_count": 4,
   "metadata": {},
   "outputs": [
    {
     "data": {
      "text/plain": [
       "[8, 5, 6, 6, 7, 5, 6, 4, 7, 5]"
      ]
     },
     "execution_count": 4,
     "metadata": {},
     "output_type": "execute_result"
    }
   ],
   "source": [
    "number_heads = []\n",
    "\n",
    "for flip_experiment in range (0,10):\n",
    "\n",
    "    flip_results = []\n",
    "    \n",
    "    for flip in range(0,10):\n",
    "        flip_result = np.random.choice([0, 1])\n",
    "        flip_results.append(flip_result)\n",
    "    \n",
    "    number_heads.append(np.sum(flip_results))   \n",
    "        \n",
    "number_heads"
   ]
  },
  {
   "cell_type": "code",
   "execution_count": 5,
   "metadata": {},
   "outputs": [
    {
     "data": {
      "image/png": "[encoded data removed]",
      "text/plain": [
       "<Figure size 432x288 with 1 Axes>"
      ]
     },
     "metadata": {
      "needs_background": "light"
     },
     "output_type": "display_data"
    }
   ],
   "source": [
    "plt.hist(number_heads,bins=np.arange(-0.5,11.5,1.0),density=True)\n",
    "plt.xlabel('Number of heads out of 10 attempts, in 10 trials',  fontsize=14)\n",
    "plt.show()"
   ]
  },
  {
   "cell_type": "markdown",
   "metadata": {},
   "source": [
    "Instead of doing 10 coin flips 10 times, do 10 coin flips 1000 times. Plot the histogram of the result."
   ]
  },
  {
   "cell_type": "code",
   "execution_count": 6,
   "metadata": {},
   "outputs": [
    {
     "data": {
      "image/png": "[encoded data removed]",
      "text/plain": [
       "<Figure size 432x288 with 1 Axes>"
      ]
     },
     "metadata": {
      "needs_background": "light"
     },
     "output_type": "display_data"
    }
   ],
   "source": [
    "number_heads = []\n",
    "\n",
    "for flip_experiment in range (0,1000):\n",
    "\n",
    "    flip_results = []\n",
    "    \n",
    "    for flip in range(0,10):\n",
    "        flip_result = np.random.choice([0, 1])\n",
    "        flip_results.append(flip_result)\n",
    "    \n",
    "    number_heads.append(np.sum(flip_results))   \n",
    "        \n",
    "plt.hist(number_heads,bins=np.arange(-0.5,11.5,1.0),density=True)\n",
    "plt.xlabel('Number of heads out of 10 attempts, in 1000 trials',  fontsize=14)\n",
    "plt.show()"
   ]
  },
  {
   "cell_type": "markdown",
   "metadata": {},
   "source": [
    "## Basic statistical concepts\n",
    "\n",
    "_Statistics_ are the methods by which we analyze, interpret and model data. It is helpful to understand a few concepts: \n",
    "\n",
    "1) **Population** versus **sample**: the _population_ is the set of all possible outcomes of a given measurement (if you had an infinite number of data points), while the _sample_ is what you have - a finite number of data points.  \n",
    "\n",
    "2) **Probability**: the measure of how likely it is for a particular event to occur.  If something is impossible, it has a probability $P$ of 0.  If it is a certainty, it has a probability $P$ of 1. In our coin flip experiment both heads and tails had equal probabilty of 0.5.\n",
    "\n",
    "3) **Theoretical** versus **empirical** distributions: Empirical distributions are measured data. Theoretical distributions are analytical probabililty functions described with an equation.  These can be applied to data, allowing interpretations about the likelihood of observing a given measurement.  \n",
    "\n",
    " \n",
    "Additional resources: Olea (2008): https://pubs.usgs.gov/of/2008/1017/ofr2008-1017_rev.pdf; Davis, J. (2002): Statistical and Data Analysis in Geology, 3rd Ed, Wiley, Hoboken. \n",
    "\n",
    "There are many different types of probability distributions and evaluating the equations gives us a theoretical distribution. \n",
    "\n",
    "Samples are finite collections of observations which belong to a distribution. In this exercise, we will simulate 'measurements' by drawing 'observations' from a theoretical distribution.  This is the _Monte Carlo_ approach (named after the gambling town). \n",
    "\n",
    "**We just simulated an experiment of flipping a coin. Let's compare what we got through that simulation to the theoretical distribution.**"
   ]
  },
  {
   "cell_type": "markdown",
   "metadata": {},
   "source": [
    "## Probability Distributions \n",
    "### Binomial Distribution\n",
    "\n",
    "A relatively straight-forward distribution is the _binomial_ distribution which describes the probability of a particular outcome when there are only two possibilities (yes or no, heads or tails, 1 or 0).   For example, in a coin toss experiment (heads or tails), if we flip the coin  $n$ times, what is the probability of getting $x$ 'heads'?  We assume that the probability $p$ of a head for any given coin toss is 50%; put another way $p$ = 0.5.  \n",
    "\n",
    "The binomial distribution can be described by an equation: \n",
    "\n",
    "$$P=f(x,p,n)= \\frac{n!}{x!(n-x)!}p^x(1-p)^{n-x}$$\n",
    "\n",
    "We can look at this kind of distribution by evaluating the probability for getting $x$ 'heads' out of $n$ attempts. We'll code the equation as a function, and calculate the probability $P$ of a particular outcome (e.g., $x$ heads in $n$ attempts). \n",
    "\n",
    "Note that for a coin toss, $p$ is 0.5, but other yes/no questions can be investigated as well (e.g., chance of finding a fossil in a sedimentary layer, whether or not a landslide occurs following an earthquake). \n"
   ]
  },
  {
   "cell_type": "code",
   "execution_count": 7,
   "metadata": {},
   "outputs": [
    {
     "data": {
      "image/png": "[encoded data removed]",
      "text/plain": [
       "<Figure size 432x288 with 1 Axes>"
      ]
     },
     "metadata": {
      "needs_background": "light"
     },
     "output_type": "display_data"
    }
   ],
   "source": [
    "n=10 # number of attempts in each trial\n",
    "p=0.5 # probability of getting a head\n",
    "x=np.arange(0,n+1,1) # range of test values from 0,N\n",
    "\n",
    "# initialize size of probability array\n",
    "bi_prob = np.zeros(len(x)) \n",
    "\n",
    "# compute the binomial probability of getting x outcomes in n attempts\n",
    "for i in np.arange(0,len(x),1):\n",
    "    bi_prob[i] = (np.math.factorial(n)*(p**(x[i]))*(1.-p)**(n-x[i]) /(np.math.factorial(x[i])*np.math.factorial(n-x[i])))\n",
    "\n",
    "#plot the probability distribution\n",
    "plt.plot(x,bi_prob,'ro',linewidth=2) # plot as solid line\n",
    "plt.xlabel('Number of heads out of 10 attempts, $\\infty$ trials',  fontsize=14) # add labels\n",
    "plt.ylabel('Probability',  fontsize=14) \n",
    "plt.title('Binomial Distribution')\n",
    "plt.show()"
   ]
  },
  {
   "cell_type": "markdown",
   "metadata": {},
   "source": [
    "Notice how similiar this is to the histogram we made of our 1000 experiments of 10 coin flips. Also notice that with only 10 experiments the empirical histogram of heads does not look much like the theoretical distribution."
   ]
  },
  {
   "cell_type": "markdown",
   "metadata": {},
   "source": [
    "### Poisson Distribution\n",
    "\n",
    "The Poisson distribution gives the probability that an event (with two possible outcomes) occurs $k$ number of times in an interval of time where $\\lambda$ is the expected rate of occurance. The Poisson distribution is the limit of the binomial distribution for large $n$. So if you take the limit of the binomial distribution as $n \\rightarrow \\infty$\n",
    "\n",
    "$$\\lim_{n \\rightarrow \\infty } \\frac{n!}{k!(n-k)!}p^k(1-p)^{n-k} = \\frac{n!}{k!(n-k)!}(\\frac{\\lambda}{n})^k(1-\\frac{\\lambda}{n})^{n-k} $$\n",
    "\n",
    "you'll get the Poisson distribution:\n",
    "\n",
    "$P(k$ events in interval$) = e^{-\\lambda}\\frac{\\lambda^{k}}{k!}.$\n",
    "\n",
    "Because $\\lim_{x \\rightarrow \\infty } (1+\\frac{a}{x})^{x}=e^{a}$ and $\\lim_{x \\rightarrow \\infty } \\frac{x!}{x^{k}(x-k)!} = 1$\n",
    "\n",
    "**Watach these two videos explaining Poisson processes, from Khan Academy:**\n",
    "\n",
    "[Poisson Process 1](https://www.khanacademy.org/math/statistics-probability/random-variables-stats-library/poisson-distribution/v/poisson-process-1)\n",
    "\n",
    "[Poisson Process 2](https://www.khanacademy.org/math/statistics-probability/random-variables-stats-library/poisson-distribution/v/poisson-process-2)\n",
    "\n"
   ]
  },
  {
   "cell_type": "code",
   "execution_count": 8,
   "metadata": {},
   "outputs": [
    {
     "data": {
      "image/png": "[encoded data removed]",
      "text/plain": [
       "<Figure size 432x288 with 1 Axes>"
      ]
     },
     "metadata": {
      "needs_background": "light"
     },
     "output_type": "display_data"
    }
   ],
   "source": [
    "lam = 4 # average rate of occurance (e.g. cars per hour)\n",
    "k = np.arange(0,21,1) # number of times the event actually occurs (e.g. observed cars in an hours)\n",
    "\n",
    "# initialize size of probability array\n",
    "pos_prob = np.zeros(len(k)) \n",
    "\n",
    "# compute the binomial probability of getting x outcomes in n attempts\n",
    "for i in np.arange(0,len(k),1):\n",
    "    pos_prob[i] = (np.exp(-1*lam))*(lam**k[i])/np.math.factorial(k[i])\n",
    "    \n",
    "# plot    \n",
    "plt.plot(k,pos_prob,'ro',label='$\\lambda$ = 4') # theoretical curve for lam = 4\n",
    "plt.xlabel('$k$, number of events',  fontsize=14)\n",
    "plt.ylabel('Probability of $k$ events',  fontsize=14)\n",
    "plt.title('Poisson Distribution');\n",
    "plt.legend();"
   ]
  },
  {
   "cell_type": "markdown",
   "metadata": {},
   "source": [
    "### Gamma Distribution\n",
    "\n",
    "The Gamma distribution gives the probability of a waiting interval between Poisson distributed events (that is an event that randomly occurs but for which is there is an average time period between the events).\n",
    "\n",
    "Consider the distribution function $D(x)$ of waiting times until the $h$th Poisson event given a Poisson distribution with a rate of occurance $\\lambda$,\n",
    "\n",
    "$$ D(x) = P (X \\le x) = 1 - P(X > x) = 1-\\sum_{k=0}^{h-1}\\frac{(\\lambda x)^{k}e^{-\\lambda x}}{k!} = 1-e^{-\\lambda x}\\sum_{k=0}^{h-1}\\frac{(\\lambda x)^{k}}{k!} = 1-\\frac{\\Gamma(h,x\\lambda) }{\\Gamma (h)}$$ \n",
    "\n",
    "where $\\Gamma (x) = (x-1)!$ is a complete gamma function and $\\Gamma (n,x) = (n-1)! e^{-x}\\sum_{k=0}^{n-1}\\frac{x^{k}}{k!}$ an incomplete gamma function. The corresponding probability function $P(x)$ of waiting times until the $h$th Poisson event is then obtained by differentiating  $D(x)$,\n",
    "\n",
    "$$ P(x) = D'(x) = \\frac{\\lambda (\\lambda x)^{h-1}}{(h-1)!}e^{-\\lambda x} $$\n",
    "\n",
    "Now let $\\alpha=h$ (not necessarily an integer) and define $\\theta=1/\\lambda$ to be the time between occurances. Then the above equation can be written\n",
    "\n",
    "$$ P(x) = \\frac{x^{\\alpha-1}e^{-x/\\theta}}{\\Gamma (\\alpha) \\theta^{\\alpha}} $$\n",
    "\n",
    "which is the probability of a duration time $x$ between events."
   ]
  },
  {
   "cell_type": "code",
   "execution_count": 9,
   "metadata": {},
   "outputs": [
    {
     "data": {
      "image/png": "[encoded data removed]",
      "text/plain": [
       "<Figure size 432x288 with 1 Axes>"
      ]
     },
     "metadata": {
      "needs_background": "light"
     },
     "output_type": "display_data"
    }
   ],
   "source": [
    "# theoretical gamma prob distribution\n",
    "alpha = 1.2\n",
    "avg_dur = 1/4 # average wait time (4 cars per hours so 1/4 hour)\n",
    "theta = avg_dur / alpha;\n",
    "wait_time = np.concatenate((np.arange(0.0,0.1,0.001),np.arange(0.1,1.0,0.1)), axis=None)\n",
    "gamma_prob = np.zeros(len(wait_time))\n",
    "for i in np.arange(0,len(wait_time),1):\n",
    "    gamma_prob[i] = (wait_time[i]**(alpha - 1) * np.exp(-1*wait_time[i]/theta)) / (scipy.special.gamma(alpha)* theta**alpha)\n",
    "\n",
    "\n",
    "# plot\n",
    "plt.plot(wait_time,gamma_prob,'ro') # theoretical curve \n",
    "plt.xlabel('Wait time Duration',  fontsize=14)\n",
    "plt.ylabel('Probability of a wait time',  fontsize=14)\n",
    "plt.title('Gamma Distribution')\n",
    "plt.show()\n",
    "\n"
   ]
  }
 ],
 "metadata": {
  "kernelspec": {
   "display_name": "Python 3",
   "language": "python",
   "name": "python3"
  },
  "language_info": {
   "codemirror_mode": {
    "name": "ipython",
    "version": 3
   },
   "file_extension": ".py",
   "mimetype": "text/x-python",
   "name": "python",
   "nbconvert_exporter": "python",
   "pygments_lexer": "ipython3",
   "version": "3.7.7"
  }
 },
 "nbformat": 4,
 "nbformat_minor": 4
}
