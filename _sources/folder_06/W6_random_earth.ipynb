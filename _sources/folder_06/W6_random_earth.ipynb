{
 "cells": [
  {
   "cell_type": "markdown",
   "metadata": {},
   "source": [
    "# 6.2 Examples of Random Earth Processes\n",
    "\n",
    "**Outline:**\n",
    "* A few examples of Earth System processes that are random (there are many more)"
   ]
  },
  {
   "cell_type": "markdown",
   "metadata": {},
   "source": [
    "## Radioactive Isotope Decays\n",
    "Elements on the periodic table come in different \"flavors\" called _isotopes_. All isotopes of a given element will have the same number of protons, but can have different numbers of neutrons. Some isotopes are _unstable_ and will _decay_, meaning that they will go through a process to gain or lose neutrons to become a _stable isotope_. The decay of radioactive isotopes follows a Poisson distribution.\n",
    "\n",
    "**Watch this video on Radioactive Decay:**\n",
    "\n",
    "[![](http://img.youtube.com/vi/zXw2cOSBB8E/0.jpg)](http://www.youtube.com/watch?v=zXw2cOSBB8E \"\")\n",
    "\n",
    "The _half-life_ of an unstable isotope is the time that it takes for half of the atoms in your sample to decay to the stable form. For example the half-life ($t_{1/2}$) of Carbon-14 is 5730 years (or 180,825,048,000 seconds). The average number of decays/second is called the _activity_, $\\lambda=Np$ where $N$ is the number of parent isotope nuclei in our hypothetical samples (i.e. the number of potential decays, let's say $N=1 \\times 10^{12}$ atoms) and $p=\\frac{\\ln⁡2}{t_{1/2}}$ is the probability that an atom will decay. So $\\lambda=Np = 1 \\times 10^{12} \\times \\ln2/ 1.8 \\times 10^{11} = 3.8 $ decays/second.\n",
    "\n",
    "The theoretical probability curve of number of decay events ($k$) is $P(k)=\\frac{\\lambda^{k} e^{-\\lambda}}{k!}$, the Poisson!\n",
    "\n"
   ]
  },
  {
   "cell_type": "markdown",
   "metadata": {},
   "source": [
    "## Geomagnetic Reversals \n",
    "Earth has a magnetic field that is generated in the outer core and is dominantly a dipole that is aligned with Earth's spin axis:\n",
    "\n",
    "![Magnetic field](./figures/magnetic_field.png)\n",
    "\n",
    "Earth’s magnetic field varies with time. The most dramatic aspect of this variation is that it reverses its polarity. The field structure in both the normal and reversed states is dipolar (like a bar magnetic), but the pole locations are switched. The timescale that it takes for the field to reverse is relatively short (a few thousand years) compared to the time that it is typically in a given polarity. Earth's magnetic reverses due to complex magnetohydrodynamic processes associated with convection of liquid iron within the outer core. These processes can be captured in numerical models such as this one:\n",
    "\n",
    "![simulated reversal](./figures/simulation_reversal.png)\n",
    "\n",
    "> Source: Glatzmaier and Coe (2015) DOI:10.1016/b978-0-444-53802-4.00146-9\n",
    "\n",
    "The Geomagnetic Polarity Time Scale is the record of geomagnetic reversals over the past ~150 million years largely derived from seafloor magnetic anomalies, but also records developed from rocks on land:\n",
    "\n",
    "![GPTS](./figures/GPTS.png)\n",
    "\n",
    "> Source: Gee and Kent (2007) \"Source of Oceanic Magnetic Anomalies and the Geomagnetic Polarity Timescale\"\n",
    "\n",
    "\n",
    "You have now dealt in detail with data that is developed by research vessels towing a magnetometer measure the marine magnetic anomalies. As you saw, the history of reversals is recorded by the oceanic crust as it forms at the ridge with both sides of the ridge record this pattern of reversals leading to symmetry about the ridge. Both the marine magnetic anomalies and records of the magnetic field on land in sedimentary rocks and lava flows have led to the development of the geomagnetic polarity time scale (GPTS). \n",
    "\n",
    "Geomagnetic reversals are often interpretted to behave like a Poisson process. A Poisson process meets the following criteria:\n",
    "\n",
    "- Events are independent of each other.\n",
    "- The average rate (events per time period) is constant.\n",
    "- Two events cannot occur at the same time.\n",
    "\n",
    "So the probability of the number of reversal events ($k$) is $$P(k)=\\frac{\\lambda^{k} e^{-\\lambda}}{k!}$$ where $\\lambda$ is the average reversal rate which has been $\\sim4$ reversals/Myr for the past 10 Ma.\n",
    "\n",
    "The probability of a _polarity chron_ duration i.e. the amount of time between reversals is then given by the Gamma distribution: $$ P(x) = \\frac{x^{\\alpha-1}e^{-x/\\theta}}{\\Gamma (\\alpha) \\theta^{\\alpha}} $$\n",
    "\n",
    "$\\theta$ is the expected time between reversals and we will follow McFadden (1984) and define $\\theta = \\mu / \\alpha$ where $\\mu$ is the average chron duration. A value for $\\alpha$ greater than one can be interpreted either as an artifact linked to some short intervals missing in the GPTS or to some short term memory within the dynamo that would inhibit a second reversal just after a first one has occurred. McFadden (1984) use a value for $\\alpha$ of 1.2.\n",
    "\n",
    "![alpha greater than one](./figures/alpha_greater_one.png)\n",
    "\n",
    "\n",
    "> Source: McFadden (1984) \"Statistical Tools for the Analysis of Geomagnetic Reversal Sequence\"\n"
   ]
  },
  {
   "cell_type": "markdown",
   "metadata": {},
   "source": [
    "## Observing meteors\n",
    "The number of meteors (meteoroids, comets, or asteroids that enter Earth's atmosphere and burn up) can be modeled with a Poisson distrubution. Meteors events are indepedent of each other and the rate of meteors is approximately constant for a given shower.\n",
    "\n",
    "![meteors](./figures/AMS_TERMINOLOGY.png)\n",
    "\n",
    "\n",
    "### From https://www.amsmeteors.org/meteor-showers/meteor-faq/:\n",
    "\n",
    "> **How big are most meteoroids? How fast do they travel?** The majority of visible meteors are caused by particles ranging in size from about that of a small pebble down to a grain of sand, and generally weigh less than 1-2 grams. Those of asteroid origin can be composed of dense stony or metallic material (the minority) while those of cometary origin (the majority) have low densities and are composed of a “fluffy” conglomerate of material, frequently called a “dustball.” The brilliant flash of light from a meteor is not caused so much by the meteoroid’s mass, but by its high level of kinetic energy as it collides with the atmosphere.\n",
    "\n",
    "> Meteors enter the atmosphere at speeds ranging from 11 km/sec (25,000 mph), to 72 km/sec (160,000 mph!). When the meteoroid collides with air molecules, its high level of kinetic energy rapidly ionizes and excites a long, thin column of atmospheric atoms along the meteoroid’s path, creating a flash of light visible from the ground below. This column, or meteor trail, is usually less than 1 meter in diameter, but will be tens of kilometers long.\n",
    "\n",
    "> The wide range in meteoroid speeds is caused partly by the fact that the Earth itself is traveling at about 30 km/sec (67,000 mph) as it revolves around the sun. On the evening side, or trailing edge of the Earth, meteoroids must catch up to the earth’s atmosphere to cause a meteor, and tend to be slow. On the morning side, or leading edge of the earth, meteoroids can collide head-on with the atmosphere and tend to be fast.\n",
    "\n",
    "> **What is a meteor shower? Does a shower occur “all at once” or over a period of time?** Most meteor showers have their origins with comets. Each time a comet swings by the sun, it produces copious amounts of meteoroid sized particles which will eventually spread out along the entire orbit of the comet to form a meteoroid “stream.” If the Earth’s orbit and the comet’s orbit intersect at some point, then the Earth will pass through this stream for a few days at roughly the same time each year, encountering a meteor shower. The only major shower clearly shown to be non-cometary is the Geminid shower, which share an orbit with the asteroid (3200 Phaethon): one that comes unusually close to the sun as well as passing through the earth’s orbit. Most shower meteoroids appear to be “fluffy”, but the Geminids are much more durable as might be expected from asteroid fragments.\n"
   ]
  },
  {
   "cell_type": "code",
   "execution_count": null,
   "metadata": {},
   "outputs": [],
   "source": []
  }
 ],
 "metadata": {
  "kernelspec": {
   "display_name": "Python 3",
   "language": "python",
   "name": "python3"
  },
  "language_info": {
   "codemirror_mode": {
    "name": "ipython",
    "version": 3
   },
   "file_extension": ".py",
   "mimetype": "text/x-python",
   "name": "python",
   "nbconvert_exporter": "python",
   "pygments_lexer": "ipython3",
   "version": "3.7.7"
  }
 },
 "nbformat": 4,
 "nbformat_minor": 4
}
