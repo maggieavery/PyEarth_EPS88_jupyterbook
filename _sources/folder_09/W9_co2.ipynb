{
 "cells": [
  {
   "cell_type": "markdown",
   "metadata": {},
   "source": [
    "# 9.2 Atmospheric Carbon Dioxide Concentration\n",
    "\n",
    "\n",
    "**Outline:**\n",
    "* What Makes the Climate Change\n",
    "* Historic Carbon Dioxide Concentration\n",
    "* Seasonal Carbon Dioxide Variations\n",
    "* Geologic Time Carbon Dioxide Variations\n",
    "\n",
    "\n",
    "## Additional Assigned Reading\n",
    "\n",
    "Physical Geology – 2nd Edition, By Steven Earle [Chapter 19.1 What Makes the Climate Change](https://opentextbc.ca/physicalgeology2ed/chapter/19-1-what-makes-the-climate-change/)\n",
    "\n",
    "## Historic Carbon Dioxide Concentration\n",
    "Carbon dioxide is an important green house gas. Studying temporal variations of the atmospheric concentation of carbon dioxide is critical to understanding how global temperature has varied with time.\n",
    "\n",
    "\n",
    "**Watch this video about How Scientists Measure Carbon Dioxide in the Air**\n",
    "\n",
    "[![](http://img.youtube.com/vi/dXBzFNEwoj8/0.jpg)](http://www.youtube.com/watch?v=dXBzFNEwoj8 \"\")\n",
    "\n",
    "The carbon dioxide data measured on Mauna Loa in Hawaii constitute the longest record of direct measurements of CO$_{2}$  in the atmosphere and is known as the \"Keeling Curve\". They were started by C. David Keeling of the Scripps Institution of Oceanography in March of 1958 at a facility of the National Oceanic and Atmospheric Administration [Keeling, 1976]. NOAA started its own CO$_{2}$  measurements in May of 1974, and they have run in parallel with those made by Scripps since then [Thoning, 1989].\n",
    "\n",
    "\n",
    "**Watch this video about the history and significance of the Keeling Curve**\n",
    "\n",
    "[![](http://img.youtube.com/vi/KD3-_5_Y1RA/0.jpg)](http://www.youtube.com/watch?v=KD3-_5_Y1RA \"\")\n",
    "\n",
    "## Seasonal Carbon Dioxide Variations\n",
    "\n",
    "Humans are of course not the only contributors to variations of the atmospheric concentation of carbon dioxide. Plant life, through the process of photosynthesis, take in water and carbon dioxide and use sun light to transform them into sugar and oxygen. So while plants are growing they are drawing down carbon dioxide from the atmosphere.\n",
    "\n",
    "**Watch this video about the Seasonal Variations in Carbon Dioxide**\n",
    "\n",
    "[![](http://img.youtube.com/vi/X2TOrKdJsqs/0.jpg)](http://www.youtube.com/watch?v=X2TOrKdJsqs \"\")\n",
    "\n",
    "## Geologic Time Carbon Dioxide Variations\n",
    "\n",
    "Scientists have been directly measuring the atmospheric carbon dioxide for a relatively tiny portion of geologic time. To understand atmospheric concentations of carbon dioxide deeper into the past scientists measure air that has been trapped in bubbles in ice. Cores of very old ice are collected by drilling into the ice shields of Greenland and Antarctica. \n",
    "\n",
    "**Watch this video about Ice Core Carbon Dioxide Records**\n",
    "\n",
    "[![](http://img.youtube.com/vi/oHzADl-XID8/0.jpg)](http://www.youtube.com/watch?v=oHzADl-XID8 \"\")\n"
   ]
  },
  {
   "cell_type": "code",
   "execution_count": null,
   "metadata": {},
   "outputs": [],
   "source": []
  }
 ],
 "metadata": {
  "kernelspec": {
   "display_name": "Python 3",
   "language": "python",
   "name": "python3"
  },
  "language_info": {
   "codemirror_mode": {
    "name": "ipython",
    "version": 3
   },
   "file_extension": ".py",
   "mimetype": "text/x-python",
   "name": "python",
   "nbconvert_exporter": "python",
   "pygments_lexer": "ipython3",
   "version": "3.7.7"
  }
 },
 "nbformat": 4,
 "nbformat_minor": 4
}
