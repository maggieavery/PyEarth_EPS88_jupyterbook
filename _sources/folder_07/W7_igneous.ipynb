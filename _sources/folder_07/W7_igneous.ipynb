{
 "cells": [
  {
   "cell_type": "markdown",
   "metadata": {},
   "source": [
    "# 7.2 Igneous Rocks\n",
    "\n",
    "**Outline:**\n",
    "* Intrusive vs. Extrusive\n",
    "* Mafic vs. felsic\n",
    "\n",
    "\n",
    "## Additional Assigned Reading\n",
    "\n",
    "Article from the National Geographic [Mount St. Helens isn't where it should be. Scientists may finally know why.](https://www.nationalgeographic.com/science/2020/05/mount-st-helens-isnt-where-should-be-scientists-may-finally-know-why/)"
   ]
  },
  {
   "cell_type": "markdown",
   "metadata": {},
   "source": [
    "## Intrusive vs. Extrusive\n",
    "\n",
    "Igneous rocks form from molten rock that cools and solidifies. One way to describe igneous rocks is by the environment (and cooling time) in which they form. \n",
    "\n",
    "**Watch this 5 minute video about intrusive and extrusive igneous rocks.**\n",
    "\n",
    "[![](http://img.youtube.com/vi/aCnAF1Opt8M/0.jpg)](http://www.youtube.com/watch?v=aCnAF1Opt8M \"\")\n",
    "\n",
    "\n",
    "Intrusive igneous rocks form from cooling magma under ground. Intrusive rocks have more time to cool and large mineral crystals can form in the magma chamber.\n",
    "\n",
    "Extrusive igneous rocks form above the surface from erupted lava. Extrusive rocks cool very quickly and large mineral crystals do not have enough time to form, so extrusive rocks are fine grained and may have trapped gas bubbles.\n",
    "\n"
   ]
  },
  {
   "cell_type": "markdown",
   "metadata": {},
   "source": [
    "## Mafic vs. felsic\n",
    "\n",
    "Another scheme for classifying igneous rocks is by their geochemistry i.e. by the chemical composition of the minerals that form them. The end-members of this spectrum are _feslic_ and _mafic_ compositions. This illustration provides an overview of the compositional difference between different types of igneous rocks:\n",
    "\n",
    "![mafic_felsic](./figures/mafic_felsic.jpg)\n",
    "\n",
    "Felsic rocks have more silica, sodium, and potassium than feslic rocks. Felsic rocks are typically lighter in color. Mafic rocks have more iron, magnesium, and calcium than feslic rocks and are usually dark in color.\n",
    "\n",
    "**Watch this 4 minute video about igneous rock classification:**\n",
    "\n",
    "[![](http://img.youtube.com/vi/Y0w79X_3fIA/0.jpg)](http://www.youtube.com/watch?v=Y0w79X_3fIA \"\")\n",
    "\n",
    "\n",
    "These compositional differences manifest in different material properties which can be observed at active volcanos. Mafic volcanoes (such as Kilauea) produce magmas that have low viscosity and flow. Felsic volcanoes produce more viscous magmas and erupt explosively. \n",
    "\n",
    "**Watch this Bill Nye the Science Guy episode \"Volcanoes\":**\n",
    "\n",
    "[![](http://img.youtube.com/vi/vSR2ZG0yjP8/0.jpg)](http://www.youtube.com/watch?v=vSR2ZG0yjP8 \"\")\n",
    "\n",
    "\n",
    "Here are some additional examples of how different magma compositions have different eruptive styles.\n",
    "\n",
    "\n",
    "Mafic lava flowing (Kilauea, Hawaii): \n",
    "\n",
    "[![](http://img.youtube.com/vi/_hyE2NO7HnU/0.jpg)](http://www.youtube.com/watch?v=_hyE2NO7HnU \"\")\n",
    "\n",
    "\n",
    "The 1980 eruption of Mount Saint Helens:\n",
    "\n",
    "[![](http://img.youtube.com/vi/AYla6q3is6w/0.jpg)](http://www.youtube.com/watch?v=AYla6q3is6w \"\")\n",
    "\n",
    "\n",
    "Dacite dome growing within Mount Saint Helens: \n",
    "\n",
    "[![](http://img.youtube.com/vi/h6B1myUKAS4/0.jpg)](http://www.youtube.com/watch?v=h6B1myUKAS4 \"\")\n",
    "\n",
    "\n",
    "[![](http://img.youtube.com/vi/3v7p9mMV6M8/0.jpg)](http://www.youtube.com/watch?v=3v7p9mMV6M8 \"\")\n",
    "*composition of 65 percent SiO2 (dacite)*\n",
    "\n",
    "\n",
    "\n",
    "\n",
    "\n",
    "\n",
    "Intermediate eruption (Krakatau, Indonesia):\n",
    "\n",
    "[![](http://img.youtube.com/vi/NLhjNzQHphQ/0.jpg)](http://www.youtube.com/watch?v=NLhjNzQHphQ \"\")\n"
   ]
  },
  {
   "cell_type": "code",
   "execution_count": null,
   "metadata": {},
   "outputs": [],
   "source": []
  }
 ],
 "metadata": {
  "kernelspec": {
   "display_name": "Python 3",
   "language": "python",
   "name": "python3"
  },
  "language_info": {
   "codemirror_mode": {
    "name": "ipython",
    "version": 3
   },
   "file_extension": ".py",
   "mimetype": "text/x-python",
   "name": "python",
   "nbconvert_exporter": "python",
   "pygments_lexer": "ipython3",
   "version": "3.7.7"
  }
 },
 "nbformat": 4,
 "nbformat_minor": 4
}
