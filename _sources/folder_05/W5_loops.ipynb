{
 "cells": [
  {
   "cell_type": "markdown",
   "metadata": {},
   "source": [
    "# 5.1 Loops and Conditionals\n",
    "\n",
    "**Outline:**\n",
    "\n",
    "* Iterating with `for` or `while` loops\n",
    "* Exiting a loop with `break` and `continue` statements\n",
    "* Conditional `if`, `elif`, `else` statements"
   ]
  },
  {
   "cell_type": "markdown",
   "metadata": {},
   "source": [
    "## Additional Assigned Reading\n",
    "\n",
    "Data 8 textbook \"Computational and Inferential Thinking: The Foundations of Data Science\" By Ani Adhikari and John DeNero [Chapter 9 Randomness](https://www.inferentialthinking.com/chapters/09/Randomness.html). This should overlap with your assigned reading for Data 8.\n"
   ]
  },
  {
   "cell_type": "markdown",
   "metadata": {},
   "source": [
    "## For Loops\n",
    "\n",
    "**Watch this tutorial video:**\n",
    "\n",
    "[![](http://img.youtube.com/vi/OnDr4J2UXSA/0.jpg)](http://www.youtube.com/watch?v=OnDr4J2UXSA \"\")\n",
    "\n",
    "For loops can be used to iterate over the elements of a list or array. The syntax for the loop is started with `for element in list_name:` where `element` is a variable name you choose and `list_name` is the object you want to interate through. Then the code you want to perform within the loop is indented 4 spaces. "
   ]
  },
  {
   "cell_type": "code",
   "execution_count": 1,
   "metadata": {},
   "outputs": [
    {
     "name": "stdout",
     "output_type": "stream",
     "text": [
      "0\n",
      "1\n",
      "2\n",
      "3\n",
      "4\n"
     ]
    }
   ],
   "source": [
    "import numpy as np\n",
    "for i in np.arange(0,5):\n",
    "    print(i)"
   ]
  },
  {
   "cell_type": "markdown",
   "metadata": {},
   "source": [
    "It's often necessary to _initiate_ i.e. preset variables or arrays you plan to use in your loop. You want arrays to stay the same dimensions and size, and in general you should know the value of the variable before you iterate over it."
   ]
  },
  {
   "cell_type": "code",
   "execution_count": 2,
   "metadata": {},
   "outputs": [
    {
     "name": "stdout",
     "output_type": "stream",
     "text": [
      "10 10 [ 0.  1.  4.  9. 16.]\n"
     ]
    }
   ],
   "source": [
    "# two methods for summing all the elements in a list and an example with setting an array\n",
    "total=0\n",
    "total2=0\n",
    "squares=np.zeros(5)\n",
    "for i in np.arange(0,5):\n",
    "    total = total + i\n",
    "    total2 += i\n",
    "    squares[i]=i**2\n",
    "\n",
    "print(total,total2,squares)\n"
   ]
  },
  {
   "cell_type": "markdown",
   "metadata": {},
   "source": [
    "## While Loops\n",
    "\n",
    "`while` loops will repeat as long as the condition you set is `True`. You need to be careful that you are not setting up an infinite loop with a condition that will never be `False`."
   ]
  },
  {
   "cell_type": "code",
   "execution_count": 3,
   "metadata": {},
   "outputs": [
    {
     "name": "stdout",
     "output_type": "stream",
     "text": [
      "0\n",
      "1\n",
      "2\n",
      "3\n",
      "4\n"
     ]
    }
   ],
   "source": [
    "count = 0\n",
    "while count < 5:\n",
    "    print(count)\n",
    "    count += 1"
   ]
  },
  {
   "cell_type": "markdown",
   "metadata": {},
   "source": [
    "## Continue and Break Statements\n",
    "\n",
    "`continue` will exit the current loop iteration you are in and skip to the next loop step. "
   ]
  },
  {
   "cell_type": "code",
   "execution_count": 4,
   "metadata": {},
   "outputs": [
    {
     "name": "stdout",
     "output_type": "stream",
     "text": [
      "1\n",
      "3\n",
      "5\n",
      "7\n",
      "9\n",
      "11\n"
     ]
    }
   ],
   "source": [
    "# Print out only odd numbers\n",
    "for x in range(12):\n",
    "    # check if x is even, divides by 2 with no remainder\n",
    "    if x % 2 == 0:\n",
    "        continue\n",
    "    print(x)"
   ]
  },
  {
   "cell_type": "markdown",
   "metadata": {},
   "source": [
    "`break` can be used to exit a `for` or `while` loop. "
   ]
  },
  {
   "cell_type": "code",
   "execution_count": 5,
   "metadata": {},
   "outputs": [
    {
     "name": "stdout",
     "output_type": "stream",
     "text": [
      "1 1\n",
      "3 4\n",
      "5 9\n",
      "7 16\n",
      "9 25\n",
      "11 36\n",
      "13 49\n",
      "15 64\n"
     ]
    }
   ],
   "source": [
    "# Sum odd numbers and Print out only until the sum is less than 50\n",
    "total = 0\n",
    "for x in range(50):\n",
    "    # check if x is even, divides by 2 with no remainder\n",
    "    if x % 2 == 0:\n",
    "        continue\n",
    "    if total > 50:\n",
    "        break\n",
    "    total = total + x\n",
    "    print(x,total)"
   ]
  },
  {
   "cell_type": "markdown",
   "metadata": {},
   "source": [
    "## If, elif, else Statements\n",
    "\n",
    "`if` statements, like loops, are used to control the flow of your code. You write a conditional `if` statement, and if it is met then the indented code within the `if` block will be executed.\n",
    "\n",
    "![if block](./figures/if_flowchart.png)  "
   ]
  },
  {
   "cell_type": "code",
   "execution_count": 6,
   "metadata": {},
   "outputs": [
    {
     "name": "stdout",
     "output_type": "stream",
     "text": [
      "Num is positive or zero!\n"
     ]
    }
   ],
   "source": [
    "# simple code to test if a number is positive\n",
    "num = 5\n",
    "\n",
    "if num >= 0:\n",
    "    print('Num is positive or zero!')"
   ]
  },
  {
   "cell_type": "markdown",
   "metadata": {},
   "source": [
    "But if the `if` condition is not met, nothing happens. You can set what happens if the `if` condition is not met with an `else` statement.\n",
    "\n",
    "![if/else block](./figures/else_flowchart.png)  "
   ]
  },
  {
   "cell_type": "code",
   "execution_count": 7,
   "metadata": {},
   "outputs": [
    {
     "name": "stdout",
     "output_type": "stream",
     "text": [
      "Num is negative. :(\n"
     ]
    }
   ],
   "source": [
    "# simple code to test if a number is positive\n",
    "num = -5\n",
    "\n",
    "if num >= 0:\n",
    "    print('Num is positive or zero!')\n",
    "else:\n",
    "    print('Num is negative. :(')"
   ]
  },
  {
   "cell_type": "markdown",
   "metadata": {},
   "source": [
    "You can build mulitple conditions into you logic tree with `if`, `elif` (which stands for else-if), `else` statements.\n",
    "\n",
    "![if/elseif/else block](./figures/elseif_flowchart.png)  "
   ]
  },
  {
   "cell_type": "code",
   "execution_count": 8,
   "metadata": {},
   "outputs": [
    {
     "name": "stdout",
     "output_type": "stream",
     "text": [
      "Num is zero.\n"
     ]
    }
   ],
   "source": [
    "# code to test if a number is positive\n",
    "num = 0\n",
    "\n",
    "if num > 0:\n",
    "    print('Num is positive.')\n",
    "elif num < 0:\n",
    "    print('Num is negative.')\n",
    "else:\n",
    "    print('Num is zero.')"
   ]
  },
  {
   "cell_type": "code",
   "execution_count": null,
   "metadata": {},
   "outputs": [],
   "source": []
  }
 ],
 "metadata": {
  "kernelspec": {
   "display_name": "Python 3",
   "language": "python",
   "name": "python3"
  },
  "language_info": {
   "codemirror_mode": {
    "name": "ipython",
    "version": 3
   },
   "file_extension": ".py",
   "mimetype": "text/x-python",
   "name": "python",
   "nbconvert_exporter": "python",
   "pygments_lexer": "ipython3",
   "version": "3.7.7"
  }
 },
 "nbformat": 4,
 "nbformat_minor": 4
}
