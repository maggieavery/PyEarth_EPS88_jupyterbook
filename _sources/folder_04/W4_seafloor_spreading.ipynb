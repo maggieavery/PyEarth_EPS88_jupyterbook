{
 "cells": [
  {
   "cell_type": "markdown",
   "metadata": {},
   "source": [
    "# 4.2 Seafloor Spreading\n",
    "\n",
    "**Goal:** Build background knowledge about marine geophysical evidence for plate tectonics. More in-depth material on these topics can be studied in EPS C82 Oceans.\n",
    "\n",
    "**Outline:**\n",
    "* Mapping the seafloor – Bathymetry\n",
    "* Anatomy of ocean ridges\n",
    "* Rates of seafloor spreading – Paleomagnetism "
   ]
  },
  {
   "cell_type": "markdown",
   "metadata": {},
   "source": [
    "## Mapping the Seafloor – Bathymetry \n",
    "The topography of the ocean floor is called bathymetry. Modern measurements of ocean depth are made using sonar (Figure 1). Sound waves are transmitted from a ship (called a ping), they reflect off the seafloor and travel back to the ship, where a receiver records the echo. The travel-time (the time between the ping transmission and echo arrival) is precisely recorded, then using the sound speed of ocean water the depth to the seafloor can be determined. Research vessels equipped with multibeam sonar travel at about 10 miles per hour and research ship time is very expensive (\\~\\\\$25,000/day), so only about 5\\% of the seafloor has been imaged in detail. \n",
    "\n",
    "![Sidescan Sonar](./figures/multibeam.png)\n",
    "\n",
    "Figure 1: A research vessel measuring ocean depth using multibeam sonar. [Source: British Antarctic Survey](https://www.bas.ac.uk/polar-operations/sites-and-facilities/facility/rrs-james-clark-ross/multibeam-echosounder-2/)\n",
    "\n",
    "The ocean floor has three main bathymetric areas: continental margins, ocean basins, and mid-ocean ridges (Figure 2). Continental margins are the transition from continental curst to oceanic crust. As we discussed before, oceanic crust has lower elevation than continental crust because it is denser and thinner, so sinks lower into the mantle. There are two kinds of continental margins: passive margins (such as the eastern coast of North America) made up of a shelf, slope, and rise, and active margins (such as the western coast of South America) where subduction occurs and a trench is created. Ocean basins, also called abyssal plains, make up most of the area of the seafloor and are fairly flat with a depth of \\~5000 meters (where we saw the deeper hump of the hypsometric curve). The flat topography of abyssal plains is due to thick accumulations of sediments that have buried the rougher basaltic oceanic crust. The thickness of the sediments increases with age of the oceanic crust. Mid-ocean ridges are the expression of divergent plate boundaries. The oceanic ridge system is a \\~70,000 km long mountain range that winds through all of Earth’s major oceans (Figure 3). New oceanic crust is created at the ridge. This new (and hotter) crust is more buoyant and sits higher than the surrounding abyssal plains at a depth of \\~2500m. Sections of ridge are often offset by transform faults and some ridges have rift valleys along their axis, both of these features are observed in the seafloor bathymetry (Figure 2).\n",
    "\n",
    "![Bathymetry of the North Atlantic](./figures/atlantic_bathymetry.png)\n",
    "\n",
    "Figure 2: Bathymetry of the North Atlantic (i.e. passive margins).\n",
    "\n",
    "\n",
    "![Mid-ocean ridges](./figures/midocean_ridges.png)\n",
    "\n",
    "Figure 3: Map of Earth's mid-ocean ridge system.\n",
    "\n",
    "**Please watch these two \\~6 min videos from IRIS:**\n",
    "\n",
    "[![](http://img.youtube.com/vi/Xzpk9110Lyw/0.jpg)](http://www.youtube.com/watch?v=Xzpk9110Lyw \"\")\n",
    "\n",
    "\n",
    "\n",
    "[![](http://img.youtube.com/vi/Nf8xvhb1eBE/0.jpg)](http://www.youtube.com/watch?v=Nf8xvhb1eBE \"\")"
   ]
  },
  {
   "cell_type": "markdown",
   "metadata": {},
   "source": [
    "## Anatomy of Ocean Ridges\n",
    "As two oceanic plates are pulled apart at divergent boundaries mantle material rises to fill the space and is partially melted by decompression. This magma erupts episodically at the ridge, creating new oceanic crust – like a conveyor belt. The relative plate motion differs between plate pairs; the north Mid-Atlantic Ridge is an example of a slow spreading ridge (\\~20 mm/yr), and the East Pacific Rise is an example of fast spreading (\\~150 mm/yr) (Figure 4). \n",
    "\n",
    "![Relative plate motion](./figures/ridge_motion.png)\n",
    "\n",
    "Figure 4: Relative plate motion between the major lithospheric plates. The arrows indicate the relative plate velocities in mm/yr. (data source DeMets et al., 1990).\n",
    "\n",
    "The topographic expression of seafloor spreading differs slightly based on the spreading rate of the plates (Figures 5). Fast spreading ridges have more well-developed magma chambers and more frequent eruptions. This leads to a gentler slope, central swell, and smoother topography. Slow spreading ridges have less frequent eruptions leading to a rift valley at the ridge axis and steeper, more rugged topography. Intermediate spreading ridges fall between these extremes.\n",
    "\n",
    "![Topography of slow and fast spreading centers](./figures/bathymetry_spreading_rates.png)\n",
    "\n",
    "Figure 5: Topography of ridge segments that exhibit fast, intermediate, and slow spreading rates. "
   ]
  },
  {
   "cell_type": "markdown",
   "metadata": {},
   "source": [
    "## Rates of seafloor spreading – Paleomagnetism \n",
    "The rate of seafloor spreading is estimated using a paleomagnetic time-scale reference frame. As new oceanic crust is produced it records the conditions (direction and strength) of the Earth’s magnetic field at that time and location. To first order, Earth’s magnetic field is a dipole (i.e. there are two magnetic poles, a north and south) (Figure 6 A). Because of this dipolar field structure the strength of the magnetic field is a function of latitude. The strength varies from ~65,000 nT (nanotesla) near the poles to ~25,000 nT at the equator. The main Core Field is generated by motion of the liquid outer core by the geodynamo (Figure 6 C). Rocks in the crust acquire magnetization by various processes (e.g. when igneous rocks cool through the Curie temperature they acquire a thermal remanent magnetization). Magnetic anomalies (anomalous with respect to the background core dipole field) due to crustal sources are small, 20 – 1000 nT. \n",
    "\n",
    "**Please watch the first 15 minutes of this lecture by Prof. Bruce Buffett:**\n",
    "\n",
    "[![](http://img.youtube.com/vi/oYHPVGuQAVw/0.jpg)](http://www.youtube.com/watch?v=oYHPVGuQAVw \"\")\n",
    "\n",
    "\n",
    "![Earth's Magnetic Field](./figures/magnetic_field.png)\n",
    "\n",
    "Figure 6: The Core Field is generated by convective motion of the liquid iron outer core which can exist in two (equal and opposite) polarity states. [Modified from European Space Agency](https://www.esa.int/Applications/Observing_the_Earth/Swarm/Our_protective_shield)\n",
    "\n",
    "\n",
    "Earth's magnetic field varies with time. It reverses its polarity randomly. The field structure in both states is dipolar, but the pole locations are switched (Figure 6 A and B). The history of these polarity reversals has been reconstructed for the past \\~200 million years and is called the geomagnetic polarity time scale (GPTS). This history of reversals is recorded by the oceanic crust as it forms at the ridge. This leads to ridge-parallel isochrons (surfaces of the same age) (Figure 7). Both sides of the ridge record this pattern of reversals leading to symmetry about the ridge (Figure 7). A research vessel towing a magnetometer measures the marine magnetic anomalies (Figure 7 A). These measurements can be correlated between ship tracks, matched with the GPTS, and this is used to determine the age of the seafloor. Once the seafloor age as a function of the distance from the ridge is determined the spreading rate can be computed (Figure 8).\n",
    "\n",
    "\n",
    "![Seafloor magnetization](./figures/seafloor_magnetic_recorder.png)\n",
    "\n",
    "Figure 7: The history of polarity reversals is recorded by the near-continuous eruptions of seafloor spreading. Ridge-parallel patterns of magnetization reflect the history of reversals of the geomagnetic field. These crustal marine magnetic anomalies can be measured by a ship-towed magnetometer (A). Ridge-parallel and symmetric “magnetic polarity stripes” reveal the spreading history of the ridge (B).  [Source: USGS](https://pubs.usgs.gov/gip/dynamic/stripes.html) and [European Space Agency](https://www.esa.int/Applications/Observing_the_Earth/Swarm/From_core_to_crust)\n",
    "\n",
    "\n",
    "![Relative plate velocity](./figures/relative_velocity.png)\n",
    "\n",
    "Figure 8: Age of the seafloor (time) and distance from the ridge (distance) are used to compute the relative velocity of the spreading plates (velocity = distance / time). \n",
    "\n",
    "\n",
    "**Please watch this \\~6 min video from IRIS:**\n",
    "\n",
    "[![](http://img.youtube.com/vi/nCIR0pZuqck/0.jpg)](http://www.youtube.com/watch?v=nCIR0pZuqck \"\")\n"
   ]
  },
  {
   "cell_type": "code",
   "execution_count": null,
   "metadata": {},
   "outputs": [],
   "source": []
  }
 ],
 "metadata": {
  "kernelspec": {
   "display_name": "Python 3",
   "language": "python",
   "name": "python3"
  },
  "language_info": {
   "codemirror_mode": {
    "name": "ipython",
    "version": 3
   },
   "file_extension": ".py",
   "mimetype": "text/x-python",
   "name": "python",
   "nbconvert_exporter": "python",
   "pygments_lexer": "ipython3",
   "version": "3.7.7"
  }
 },
 "nbformat": 4,
 "nbformat_minor": 4
}
