{
 "cells": [
  {
   "cell_type": "markdown",
   "metadata": {},
   "source": [
    "# 2.1 Data I/O (Input/Output)\n",
    "\n",
    "**Goals:** Introduce methods for loading data from a text file using python.\n",
    "    \n",
    "**Outline:**\n",
    "* Reading data files\n",
    "* Writing data files\n",
    "\n",
    "## Additional Assigned Reading (or Review)\n",
    "Data 8 text book \"Computational and Inferential Thinking: The Foundations of Data Science\" By Ani Adhikari and John DeNero [Chapter 3 Programming in Python](https://www.inferentialthinking.com/chapters/03/programming-in-python.html), [Chapter 4 Data Types](https://www.inferentialthinking.com/chapters/04/Data_Types.html), [Chapter 5 Sequences](https://www.inferentialthinking.com/chapters/05/Sequences.html), and [Chapter 6 Tables](https://www.inferentialthinking.com/chapters/06/Tables.html). This should overlap with your assigned reading for Data 8."
   ]
  },
  {
   "cell_type": "markdown",
   "metadata": {},
   "source": [
    "## Know what the data is\n",
    "\n",
    "The first thing to do is familiarize yourself with the data. What are the columns? How many rows are there? \n",
    "\n",
    "In general the data we will use for this class will be saved as text files. These files will be larger than some other file types, but they are human readable! Use the text editor of your choice and open the text file. Make sure it's the file you want. \n",
    "\n",
    "Take note of: \n",
    "-  number of header rows\n",
    "-  number of columns and rows\n",
    "-  are they string/integer/float types\n",
    "-  what is the delimiter"
   ]
  },
  {
   "cell_type": "markdown",
   "metadata": {},
   "source": [
    "Usually this will be straight foward. For example:\n",
    "\n",
    "![](figures/csv_example.png)\n",
    "\n",
    "This file has one row of header information. There are 3 columns: Latitude, Longitude, and Age. The elements in each row are separated by commas. Each column has float (a number with decimal points) type data."
   ]
  },
  {
   "cell_type": "markdown",
   "metadata": {},
   "source": [
    "Or slightly more complicated, but still do-able:\n",
    "\n",
    "![](figures/more_complicated_example.png)\n",
    "\n",
    "This file has 9 rows of header information. There are 13 columns. The elements in each row are separated by tabs. The columns are a mix of strings, floats, and integers."
   ]
  },
  {
   "cell_type": "markdown",
   "metadata": {},
   "source": [
    "Sometimes you'll mess up and get something crazy.\n",
    "\n",
    "![](figures/AHHH_example.png)\n"
   ]
  },
  {
   "cell_type": "markdown",
   "metadata": {},
   "source": [
    "It's much better to catch this early than to struggle trying to troubleshoot.\n",
    "\n",
    "![](figures/meme_AHHH_example.png)"
   ]
  },
  {
   "cell_type": "markdown",
   "metadata": {},
   "source": [
    "## Loading Data\n",
    "\n",
    "The functions we will use most for reading and parsing data in text format are `np.loadtxt`,`pd.read_csv`, and `pd.read_table`.\n",
    "\n",
    "![](figures/Table_6.1.png)\n",
    "\n",
    "They are similar except `pd.read_csv` has a default comma delimiter and `pd.read_table` has tab (`'\\t'`) as its default delimiter.\n",
    "\n",
    "The syntax will look something like: `pd.read_csv('filename.csv',header=2, sep=',',names=['Date','Time','Location'])`. There are other argument options that you may need to use.\n",
    "\n",
    "![](figures/Table_6_2.png)\n",
    "\n",
    "> Source: Python for Data Analysis, McKinney"
   ]
  },
  {
   "cell_type": "markdown",
   "metadata": {},
   "source": [
    "For example the first file above can be loaded into a DataFrame name `seafloor_age` by calling `pd.read_csv` as `seafloor_age = pd.read_csv('age_xyz.csv',header=1, sep=',',names=['latitude','longitude','age_Myr'])`.\n",
    "\n",
    "![](figures/read_example1.png)"
   ]
  },
  {
   "cell_type": "markdown",
   "metadata": {},
   "source": [
    "## Writing Data to Text Format\n",
    "\n",
    "Often once you have completed your data wrangling and analysis you want to save your data. Unless you need to save in a software-specific file format or you have thousands of rows, you'll want to save in text format. Again so they are human readable. A simple way to do this is use the DataFrame method `to_csv` and setting the path and filename. \n",
    "\n",
    "![](./figures/write_example1.png)\n",
    "\n",
    "This will save a file named 'seafloor_age_new.csv' in the same directory as your notebook. You can set a different file path instead. `seafloor_age.to_csv('data/seafloor_age_new.csv')` would make a directory named 'data' and place your new file there."
   ]
  },
  {
   "cell_type": "code",
   "execution_count": null,
   "metadata": {},
   "outputs": [],
   "source": []
  }
 ],
 "metadata": {
  "kernelspec": {
   "display_name": "Python 3",
   "language": "python",
   "name": "python3"
  },
  "language_info": {
   "codemirror_mode": {
    "name": "ipython",
    "version": 3
   },
   "file_extension": ".py",
   "mimetype": "text/x-python",
   "name": "python",
   "nbconvert_exporter": "python",
   "pygments_lexer": "ipython3",
   "version": "3.7.7"
  }
 },
 "nbformat": 4,
 "nbformat_minor": 4
}
