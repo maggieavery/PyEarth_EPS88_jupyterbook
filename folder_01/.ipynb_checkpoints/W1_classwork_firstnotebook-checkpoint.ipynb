{
 "cells": [
  {
   "cell_type": "markdown",
   "metadata": {},
   "source": [
    "# 1.1 Introduction to a Jupyter Notebook\n",
    "\n",
    "**Goals:** Introduce the workflow of the class. Get acquainted with Jupyter Notebooks.\n",
    "    \n",
    "**Outline:**\n",
    "* Jupyter Notebooks\n"
   ]
  },
  {
   "cell_type": "markdown",
   "metadata": {},
   "source": [
    "## Jupyter Notebooks and Jupyter Hub\n",
    "\n",
    "The assignments for this class will use a special programming environment called Jupyter notebooks. A [Jupyter notebook](https://jupyter-notebook-beginner-guide.readthedocs.io/en/latest/what_is_jupyter.html) is a development environment where you can write, debug, and execute your programs.\n",
    "\n",
    "Commonly the first task of a programming course is for students to install the required packages and software on their variety of personal devices. This is always a hassle. So to avoid that we will run our Jupyter notebooks with a [JupyterHub](https://jupyter.org/hub) environment. However, you may in the future wish to install python on your own computer. When that day comes, go to [Anaconda](https://anaconda.org/) and follow the install instructions for your operating system. But for now that won't be neccessary. \n"
   ]
  },
  {
   "cell_type": "markdown",
   "metadata": {},
   "source": [
    "## Anatomy of a Jupyter Notebook\n",
    "\n",
    "Here is a blank notebook:\n",
    "\n",
    "![](./figures/new_notebook.png)\n",
    "\n",
    "The area highlighted in green is a \"cell\". You can add new cells with the plus-sign button or under the Insert tab.\n",
    "\n",
    "![](./figures/insert_new_cell.png)\n",
    "\n",
    "\n",
    "<br>\n",
    "Jupyter notebooks have two basic cell types:\n",
    "\n",
    "* Markdown: for typesetting notes. Here is a \"[cheatsheet](https://medium.com/ibm-data-science-experience/markdown-for-jupyter-notebooks-cheatsheet-386c05aeebed)\" for markdown typesetting.\n",
    "\n",
    "* Code: for writing python code\n",
    "\n",
    "Cell types default to 'Code' but you change the cell type to 'Markdown' with the box labeled 'Markdown' on the menu bar.\n",
    "\n",
    "![](./figures/cell_types.png)\n",
    "\n",
    "You \"execute\" a cell (either typeset or run the code) by clicking on the 'Run' button (sideways triangle), select 'Run Cells' under the Cell tab, or by holding Shift and typing Return.\n",
    "\n",
    "![](./figures/run_cell.png)"
   ]
  },
  {
   "cell_type": "markdown",
   "metadata": {},
   "source": [
    "In a code block, you can only type valid python statements EXCEPT after a pound sign `#` everything after that will be ignored.\n",
    "That is how you write \"comments\" in your code to remind yourself or tell others what you were thinking:\n",
    "\n",
    "![](./figures/first_line.png)\n",
    "\n",
    "Then after I run this simple program to `print` a message:\n",
    "\n",
    "![](./figures/first_line_run.png)"
   ]
  },
  {
   "cell_type": "code",
   "execution_count": null,
   "metadata": {},
   "outputs": [],
   "source": []
  }
 ],
 "metadata": {
  "kernelspec": {
   "display_name": "Python 3",
   "language": "python",
   "name": "python3"
  },
  "language_info": {
   "codemirror_mode": {
    "name": "ipython",
    "version": 3
   },
   "file_extension": ".py",
   "mimetype": "text/x-python",
   "name": "python",
   "nbconvert_exporter": "python",
   "pygments_lexer": "ipython3",
   "version": "3.7.7"
  }
 },
 "nbformat": 4,
 "nbformat_minor": 4
}
